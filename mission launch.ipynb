{
  "nbformat": 4,
  "nbformat_minor": 0,
  "metadata": {
    "colab": {
      "provenance": [],
      "authorship_tag": "ABX9TyMBs8ajvkm3VhPK0la6D+vg",
      "include_colab_link": true
    },
    "kernelspec": {
      "name": "python3",
      "display_name": "Python 3"
    },
    "language_info": {
      "name": "python"
    }
  },
  "cells": [
    {
      "cell_type": "markdown",
      "metadata": {
        "id": "view-in-github",
        "colab_type": "text"
      },
      "source": [
        "<a href=\"https://colab.research.google.com/github/manishaachary13/Space-Launch-Mission/blob/main/mission%20launch.ipynb\" target=\"_parent\"><img src=\"https://colab.research.google.com/assets/colab-badge.svg\" alt=\"Open In Colab\"/></a>"
      ]
    },
    {
      "cell_type": "markdown",
      "source": [
        "# ✈️ Project Title:  **Big Data Analytics of Global Space Launch Missions**"
      ],
      "metadata": {
        "id": "CZIiezAPKLaR"
      }
    },
    {
      "cell_type": "markdown",
      "source": [
        "# **🧩 Problem Statement:**"
      ],
      "metadata": {
        "id": "2IARkr-cN3-Q"
      }
    },
    {
      "cell_type": "markdown",
      "source": [
        "With the rise of both government and private space agencies, the number of satellite and exploratory missions has increased rapidly. However, delays, failures, and cost overruns still pose a serious challenge. This project aims to use Big Data tools (specifically PySpark) to analyze historical space launch data, uncover patterns in successful/failed missions, and predict mission outcomes.\n",
        "\n",
        "This project aims to utilize **Big Data analytics using PySpark** to process and analyze historical global space launch mission data. The goals are to:\n",
        "* Identify patterns and trends in space launch activity over time.\n",
        "* Analyze mission success/failure based on organization, rocket status, launch site, or launch type.\n",
        "* Explore cost drivers in space missions and the relationship between cost and success.\n",
        "* Predict mission outcomes (success/failure) using classification models."
      ],
      "metadata": {
        "id": "9Cq_W2KsN20F"
      }
    },
    {
      "cell_type": "markdown",
      "source": [
        "## 🛰️ Key Features in the Dataset:"
      ],
      "metadata": {
        "id": "nXzSToBBOGWw"
      }
    },
    {
      "cell_type": "markdown",
      "source": [
        "\n",
        "Organisation: Agency or private company (e.g., SpaceX, ISRO, NASA, Roscosmos)\n",
        "\n",
        "Location: Launch site\n",
        "\n",
        "Date: Mission launch date\n",
        "\n",
        "Detail: Description of the mission\n",
        "\n",
        "Rocket_Status: Operational status of the rocket\n",
        "\n",
        "Price: Launch cost (in million USD)\n",
        "\n",
        "Mission_Status: Outcome of the mission (e.g., Success, Failure, Partial Failure)"
      ],
      "metadata": {
        "id": "nSwQQz-fOEcC"
      }
    },
    {
      "cell_type": "markdown",
      "source": [
        "#### 📦 1. Install and Configure PySpark"
      ],
      "metadata": {
        "id": "00UZMJuTOIHa"
      }
    },
    {
      "cell_type": "code",
      "execution_count": null,
      "metadata": {
        "id": "289kCqmfKJgq"
      },
      "outputs": [],
      "source": [
        "# Install Java & PySpark\n",
        "!apt-get install openjdk-11-jdk -y\n",
        "!pip install -q pyspark\n",
        "\n",
        "# Set environment variables for Spark\n",
        "import os\n",
        "os.environ[\"JAVA_HOME\"] = \"/usr/lib/jvm/java-11-openjdk-amd64\"\n",
        "os.environ[\"SPARK_HOME\"] = \"/usr/local/lib/python3.10/dist-packages/pyspark\"\n"
      ]
    },
    {
      "cell_type": "markdown",
      "source": [],
      "metadata": {
        "id": "tq4oGIEsQZLx"
      }
    }
  ]
}