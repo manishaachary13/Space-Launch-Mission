{
  "nbformat": 4,
  "nbformat_minor": 0,
  "metadata": {
    "colab": {
      "provenance": [],
      "include_colab_link": true
    },
    "kernelspec": {
      "name": "python3",
      "display_name": "Python 3"
    },
    "language_info": {
      "name": "python"
    }
  },
  "cells": [
    {
      "cell_type": "markdown",
      "metadata": {
        "id": "view-in-github",
        "colab_type": "text"
      },
      "source": [
        "<a href=\"https://colab.research.google.com/github/manishaachary13/Space-Launch-Mission/blob/main/mission%20launch.ipynb\" target=\"_parent\"><img src=\"https://colab.research.google.com/assets/colab-badge.svg\" alt=\"Open In Colab\"/></a>"
      ]
    },
    {
      "cell_type": "markdown",
      "source": [
        "# ✈️ Project Title:  **Big Data Analytics of Global Space Launch Missions**"
      ],
      "metadata": {
        "id": "CZIiezAPKLaR"
      }
    },
    {
      "cell_type": "markdown",
      "source": [
        "# **🧩 Problem Statement:**"
      ],
      "metadata": {
        "id": "2IARkr-cN3-Q"
      }
    },
    {
      "cell_type": "markdown",
      "source": [
        "With the rise of both government and private space agencies, the number of satellite and exploratory missions has increased rapidly. However, delays, failures, and cost overruns still pose a serious challenge. This project aims to use Big Data tools (specifically PySpark) to analyze historical space launch data, uncover patterns in successful/failed missions, and predict mission outcomes.\n",
        "\n",
        "This project aims to utilize **Big Data analytics using PySpark** to process and analyze historical global space launch mission data. The goals are to:\n",
        "* Identify patterns and trends in space launch activity over time.\n",
        "* Analyze mission success/failure based on organization, rocket status, launch site, or launch type.\n",
        "* Explore cost drivers in space missions and the relationship between cost and success.\n",
        "* Predict mission outcomes (success/failure) using classification models."
      ],
      "metadata": {
        "id": "9Cq_W2KsN20F"
      }
    },
    {
      "cell_type": "markdown",
      "source": [
        "## 🛰️ Key Features in the Dataset:"
      ],
      "metadata": {
        "id": "nXzSToBBOGWw"
      }
    },
    {
      "cell_type": "markdown",
      "source": [
        "\n",
        "Organisation: Agency or private company (e.g., SpaceX, ISRO, NASA, Roscosmos)\n",
        "\n",
        "Location: Launch site\n",
        "\n",
        "Date: Mission launch date\n",
        "\n",
        "Detail: Description of the mission\n",
        "\n",
        "Rocket_Status: Operational status of the rocket\n",
        "\n",
        "Price: Launch cost (in million USD)\n",
        "\n",
        "Mission_Status: Outcome of the mission (e.g., Success, Failure, Partial Failure)"
      ],
      "metadata": {
        "id": "nSwQQz-fOEcC"
      }
    },
    {
      "cell_type": "markdown",
      "source": [
        "#### 📦 1. Install and Configure PySpark"
      ],
      "metadata": {
        "id": "00UZMJuTOIHa"
      }
    },
    {
      "cell_type": "code",
      "execution_count": 1,
      "metadata": {
        "id": "289kCqmfKJgq",
        "outputId": "16fba40b-b7ef-412e-80d6-6b2413a55407",
        "colab": {
          "base_uri": "https://localhost:8080/"
        }
      },
      "outputs": [
        {
          "output_type": "stream",
          "name": "stdout",
          "text": [
            "✅ Spark Session Created Successfully\n"
          ]
        }
      ],
      "source": [
        "# 1. Install Java and PySpark\n",
        "!apt-get install openjdk-11-jdk-headless -qq > /dev/null\n",
        "!pip install -q pyspark findspark\n",
        "\n",
        "# 2. Set Environment Variables\n",
        "import os\n",
        "os.environ[\"JAVA_HOME\"] = \"/usr/lib/jvm/java-11-openjdk-amd64\"\n",
        "\n",
        "# 3. Initialize Findspark\n",
        "import findspark\n",
        "findspark.init()\n",
        "\n",
        "# 4. Start Spark Session\n",
        "from pyspark.sql import SparkSession\n",
        "\n",
        "spark = SparkSession.builder \\\n",
        "    .appName(\"SpaceLaunchBigData\") \\\n",
        "    .getOrCreate()\n",
        "\n",
        "print(\"✅ Spark Session Created Successfully\")\n",
        "\n"
      ]
    },
    {
      "cell_type": "markdown",
      "source": [
        "#### Load CSV (from Github)"
      ],
      "metadata": {
        "id": "tq4oGIEsQZLx"
      }
    },
    {
      "cell_type": "code",
      "source": [
        "!wget -O mission_launches.csv \"https://raw.githubusercontent.com/manishaachary13/Space-Launch-Mission/refs/heads/main/mission_launches.csv\"\n"
      ],
      "metadata": {
        "colab": {
          "base_uri": "https://localhost:8080/"
        },
        "id": "RWledZyQKVjV",
        "outputId": "f97c8519-602f-4a65-f680-6d6002c7f6a8"
      },
      "execution_count": 3,
      "outputs": [
        {
          "output_type": "stream",
          "name": "stdout",
          "text": [
            "--2025-04-13 12:40:07--  https://raw.githubusercontent.com/manishaachary13/Space-Launch-Mission/refs/heads/main/mission_launches.csv\n",
            "Resolving raw.githubusercontent.com (raw.githubusercontent.com)... 185.199.108.133, 185.199.109.133, 185.199.110.133, ...\n",
            "Connecting to raw.githubusercontent.com (raw.githubusercontent.com)|185.199.108.133|:443... connected.\n",
            "HTTP request sent, awaiting response... 200 OK\n",
            "Length: 632009 (617K) [text/plain]\n",
            "Saving to: ‘mission_launches.csv’\n",
            "\n",
            "mission_launches.cs 100%[===================>] 617.20K  --.-KB/s    in 0.04s   \n",
            "\n",
            "2025-04-13 12:40:08 (14.9 MB/s) - ‘mission_launches.csv’ saved [632009/632009]\n",
            "\n"
          ]
        }
      ]
    },
    {
      "cell_type": "code",
      "source": [
        "df = spark.read.csv(\"mission_launches.csv\", header=True, inferSchema=True)\n",
        "\n"
      ],
      "metadata": {
        "id": "ePdJdXAGKgEF"
      },
      "execution_count": 5,
      "outputs": []
    },
    {
      "cell_type": "markdown",
      "source": [
        "#### Basic Informations"
      ],
      "metadata": {
        "id": "ZLVow0hkLh1s"
      }
    },
    {
      "cell_type": "code",
      "source": [
        "df.printSchema()\n"
      ],
      "metadata": {
        "colab": {
          "base_uri": "https://localhost:8080/"
        },
        "id": "77p-23KWKiS0",
        "outputId": "ba678b72-d15b-4565-bc52-efb1c6de8ca9"
      },
      "execution_count": 6,
      "outputs": [
        {
          "output_type": "stream",
          "name": "stdout",
          "text": [
            "root\n",
            " |-- _c0: integer (nullable = true)\n",
            " |-- Unnamed: 0: integer (nullable = true)\n",
            " |-- Organisation: string (nullable = true)\n",
            " |-- Location: string (nullable = true)\n",
            " |-- Date: string (nullable = true)\n",
            " |-- Detail: string (nullable = true)\n",
            " |-- Rocket_Status: string (nullable = true)\n",
            " |-- Price: string (nullable = true)\n",
            " |-- Mission_Status: string (nullable = true)\n",
            "\n"
          ]
        }
      ]
    },
    {
      "cell_type": "code",
      "source": [
        "df.show(5, truncate=False)\n"
      ],
      "metadata": {
        "colab": {
          "base_uri": "https://localhost:8080/"
        },
        "id": "m9bEnUDuKp3M",
        "outputId": "c5ed5d95-f111-4ff5-d2ab-3ed7e1d02e3a"
      },
      "execution_count": 7,
      "outputs": [
        {
          "output_type": "stream",
          "name": "stdout",
          "text": [
            "+---+----------+------------+---------------------------------------------------------+--------------------------+--------------------------------------------+-------------+-----+--------------+\n",
            "|_c0|Unnamed: 0|Organisation|Location                                                 |Date                      |Detail                                      |Rocket_Status|Price|Mission_Status|\n",
            "+---+----------+------------+---------------------------------------------------------+--------------------------+--------------------------------------------+-------------+-----+--------------+\n",
            "|0  |0         |SpaceX      |LC-39A, Kennedy Space Center, Florida, USA               |Fri Aug 07, 2020 05:12 UTC|Falcon 9 Block 5 | Starlink V1 L9 & BlackSky|StatusActive |50.0 |Success       |\n",
            "|1  |1         |CASC        |Site 9401 (SLS-2), Jiuquan Satellite Launch Center, China|Thu Aug 06, 2020 04:01 UTC|Long March 2D | Gaofen-9 04 & Q-SAT         |StatusActive |29.75|Success       |\n",
            "|2  |2         |SpaceX      |Pad A, Boca Chica, Texas, USA                            |Tue Aug 04, 2020 23:57 UTC|Starship Prototype | 150 Meter Hop          |StatusActive |NULL |Success       |\n",
            "|3  |3         |Roscosmos   |Site 200/39, Baikonur Cosmodrome, Kazakhstan             |Thu Jul 30, 2020 21:25 UTC|Proton-M/Briz-M | Ekspress-80 & Ekspress-103|StatusActive |65.0 |Success       |\n",
            "|4  |4         |ULA         |SLC-41, Cape Canaveral AFS, Florida, USA                 |Thu Jul 30, 2020 11:50 UTC|Atlas V 541 | Perseverance                  |StatusActive |145.0|Success       |\n",
            "+---+----------+------------+---------------------------------------------------------+--------------------------+--------------------------------------------+-------------+-----+--------------+\n",
            "only showing top 5 rows\n",
            "\n"
          ]
        }
      ]
    },
    {
      "cell_type": "code",
      "source": [
        "print(\"Number of Rows:\", df.count())\n",
        "print(\"Number of Columns:\", len(df.columns))\n"
      ],
      "metadata": {
        "colab": {
          "base_uri": "https://localhost:8080/"
        },
        "id": "HBYQUSzoKq7j",
        "outputId": "51f40146-9dcb-48c7-8cb6-e9b9bf6285ca"
      },
      "execution_count": 8,
      "outputs": [
        {
          "output_type": "stream",
          "name": "stdout",
          "text": [
            "Number of Rows: 4324\n",
            "Number of Columns: 9\n"
          ]
        }
      ]
    },
    {
      "cell_type": "markdown",
      "source": [
        "#### Describe numerical columns"
      ],
      "metadata": {
        "id": "qGm4ICX2LpO7"
      }
    },
    {
      "cell_type": "code",
      "source": [
        "df.describe().show()\n"
      ],
      "metadata": {
        "colab": {
          "base_uri": "https://localhost:8080/"
        },
        "id": "CEvfecNeKsLj",
        "outputId": "ba2e36de-c439-4761-dc49-ac02cc65e821"
      },
      "execution_count": 9,
      "outputs": [
        {
          "output_type": "stream",
          "name": "stdout",
          "text": [
            "+-------+------------------+------------------+------------+--------------------+--------------------+--------------------+-------------+------------------+--------------+\n",
            "|summary|               _c0|        Unnamed: 0|Organisation|            Location|                Date|              Detail|Rocket_Status|             Price|Mission_Status|\n",
            "+-------+------------------+------------------+------------+--------------------+--------------------+--------------------+-------------+------------------+--------------+\n",
            "|  count|              4324|              4324|        4324|                4324|                4324|                4324|         4324|               964|          4324|\n",
            "|   mean|            2161.5|            2161.5|        NULL|                NULL|                NULL|                NULL|         NULL|129.79523709167552|          NULL|\n",
            "| stddev|1248.3756112110916|1248.3756112110916|        NULL|                NULL|                NULL|                NULL|         NULL| 143.2203233531596|          NULL|\n",
            "|    min|                 0|                 0|         AEB|Blue Origin Launc...|Fri Apr 01, 1960 ...|      ASLV | SROSS C| StatusActive|           1,160.0|       Failure|\n",
            "|    max|              4323|              4323|     i-Space|Xichang Satellite...|Wed Sep 30, 2015 ...|ZhuQue-1 | CCTV F...|StatusRetired|              90.0|       Success|\n",
            "+-------+------------------+------------------+------------+--------------------+--------------------+--------------------+-------------+------------------+--------------+\n",
            "\n"
          ]
        }
      ]
    },
    {
      "cell_type": "markdown",
      "source": [
        "#### Checking for Missing Values(Column-wise)"
      ],
      "metadata": {
        "id": "MS7x6RbbL0QM"
      }
    },
    {
      "cell_type": "code",
      "source": [
        "from pyspark.sql.functions import col, when, count, isnan\n",
        "\n",
        "df.select([count(when(col(c).isNull() | isnan(c), c)).alias(c) for c in df.columns]).show()\n"
      ],
      "metadata": {
        "colab": {
          "base_uri": "https://localhost:8080/"
        },
        "id": "PG06Jo_qKtTj",
        "outputId": "2e93cd10-2587-4383-8d01-2d59026c67d1"
      },
      "execution_count": 10,
      "outputs": [
        {
          "output_type": "stream",
          "name": "stdout",
          "text": [
            "+---+----------+------------+--------+----+------+-------------+-----+--------------+\n",
            "|_c0|Unnamed: 0|Organisation|Location|Date|Detail|Rocket_Status|Price|Mission_Status|\n",
            "+---+----------+------------+--------+----+------+-------------+-----+--------------+\n",
            "|  0|         0|           0|       0|   0|     0|            0| 3360|             0|\n",
            "+---+----------+------------+--------+----+------+-------------+-----+--------------+\n",
            "\n"
          ]
        }
      ]
    },
    {
      "cell_type": "markdown",
      "source": [
        "#### Unique Values per column"
      ],
      "metadata": {
        "id": "1KuoFTTwL7OE"
      }
    },
    {
      "cell_type": "code",
      "source": [
        "for col_name in df.columns:\n",
        "    df.select(col_name).distinct().count()\n",
        "    print(f\"Unique values in '{col_name}':\", df.select(col_name).distinct().count())\n"
      ],
      "metadata": {
        "colab": {
          "base_uri": "https://localhost:8080/"
        },
        "id": "IgjigBXrKuYs",
        "outputId": "701a59b3-93aa-48e3-8978-3a4e42a20c81"
      },
      "execution_count": 11,
      "outputs": [
        {
          "output_type": "stream",
          "name": "stdout",
          "text": [
            "Unique values in '_c0': 4324\n",
            "Unique values in 'Unnamed: 0': 4324\n",
            "Unique values in 'Organisation': 56\n",
            "Unique values in 'Location': 137\n",
            "Unique values in 'Date': 4319\n",
            "Unique values in 'Detail': 4278\n",
            "Unique values in 'Rocket_Status': 2\n",
            "Unique values in 'Price': 57\n",
            "Unique values in 'Mission_Status': 4\n"
          ]
        }
      ]
    },
    {
      "cell_type": "markdown",
      "source": [
        "#### Column names and Their Datatypes"
      ],
      "metadata": {
        "id": "xg-OExeSMLwT"
      }
    },
    {
      "cell_type": "code",
      "source": [
        "[(name, dtype) for name, dtype in df.dtypes]"
      ],
      "metadata": {
        "colab": {
          "base_uri": "https://localhost:8080/"
        },
        "id": "Rc-KZfsFKxHL",
        "outputId": "c9b54896-38c3-461f-ee23-474e2e1d3280"
      },
      "execution_count": 12,
      "outputs": [
        {
          "output_type": "execute_result",
          "data": {
            "text/plain": [
              "[('_c0', 'int'),\n",
              " ('Unnamed: 0', 'int'),\n",
              " ('Organisation', 'string'),\n",
              " ('Location', 'string'),\n",
              " ('Date', 'string'),\n",
              " ('Detail', 'string'),\n",
              " ('Rocket_Status', 'string'),\n",
              " ('Price', 'string'),\n",
              " ('Mission_Status', 'string')]"
            ]
          },
          "metadata": {},
          "execution_count": 12
        }
      ]
    },
    {
      "cell_type": "markdown",
      "source": [
        "#### Frequecy of each mission status"
      ],
      "metadata": {
        "id": "pCVWR0CNMQnD"
      }
    },
    {
      "cell_type": "code",
      "source": [
        "df.groupBy(\"Mission_Status\").count().orderBy(\"count\", ascending=False).show()\n"
      ],
      "metadata": {
        "colab": {
          "base_uri": "https://localhost:8080/"
        },
        "id": "D1A2RxgMKyiT",
        "outputId": "69a82bb2-994d-4b99-deaa-759e815df203"
      },
      "execution_count": 13,
      "outputs": [
        {
          "output_type": "stream",
          "name": "stdout",
          "text": [
            "+-----------------+-----+\n",
            "|   Mission_Status|count|\n",
            "+-----------------+-----+\n",
            "|          Success| 3879|\n",
            "|          Failure|  339|\n",
            "|  Partial Failure|  102|\n",
            "|Prelaunch Failure|    4|\n",
            "+-----------------+-----+\n",
            "\n"
          ]
        }
      ]
    },
    {
      "cell_type": "markdown",
      "source": [
        "#### Frequency of each rocket status"
      ],
      "metadata": {
        "id": "d5NOwiYlMXp0"
      }
    },
    {
      "cell_type": "code",
      "source": [
        "df.groupBy(\"Rocket_Status\").count().orderBy(\"count\", ascending=False).show()\n"
      ],
      "metadata": {
        "colab": {
          "base_uri": "https://localhost:8080/"
        },
        "id": "zTYWqSz1K0Fr",
        "outputId": "5edccea8-94ef-4b25-db22-7ae688e57872"
      },
      "execution_count": 14,
      "outputs": [
        {
          "output_type": "stream",
          "name": "stdout",
          "text": [
            "+-------------+-----+\n",
            "|Rocket_Status|count|\n",
            "+-------------+-----+\n",
            "|StatusRetired| 3534|\n",
            "| StatusActive|  790|\n",
            "+-------------+-----+\n",
            "\n"
          ]
        }
      ]
    },
    {
      "cell_type": "markdown",
      "source": [
        "#### Check for blank strings"
      ],
      "metadata": {
        "id": "kkHOVM4jMbhr"
      }
    },
    {
      "cell_type": "code",
      "source": [
        "from pyspark.sql.functions import length, trim\n",
        "\n",
        "df.select([count(when(trim(col(c)) == \"\", c)).alias(c) for c in df.columns]).show()\n"
      ],
      "metadata": {
        "colab": {
          "base_uri": "https://localhost:8080/"
        },
        "id": "h5-8jvheK3rr",
        "outputId": "5779f8f0-4e30-429f-c0fc-d526a3dadf09"
      },
      "execution_count": 15,
      "outputs": [
        {
          "output_type": "stream",
          "name": "stdout",
          "text": [
            "+---+----------+------------+--------+----+------+-------------+-----+--------------+\n",
            "|_c0|Unnamed: 0|Organisation|Location|Date|Detail|Rocket_Status|Price|Mission_Status|\n",
            "+---+----------+------------+--------+----+------+-------------+-----+--------------+\n",
            "|  0|         0|           0|       0|   0|     0|            0|    0|             0|\n",
            "+---+----------+------------+--------+----+------+-------------+-----+--------------+\n",
            "\n"
          ]
        }
      ]
    },
    {
      "cell_type": "markdown",
      "source": [
        "####  Check for Duplicate rows"
      ],
      "metadata": {
        "id": "H3N0-PevMkTD"
      }
    },
    {
      "cell_type": "code",
      "source": [
        "duplicates = df.groupBy(df.columns).count().filter(\"count > 1\")\n",
        "print(\"Number of duplicate rows:\", duplicates.count())\n"
      ],
      "metadata": {
        "colab": {
          "base_uri": "https://localhost:8080/"
        },
        "id": "bwnfGuhLK5Eb",
        "outputId": "6da24d42-3965-416f-924c-a50c246f5a01"
      },
      "execution_count": 16,
      "outputs": [
        {
          "output_type": "stream",
          "name": "stdout",
          "text": [
            "Number of duplicate rows: 0\n"
          ]
        }
      ]
    },
    {
      "cell_type": "markdown",
      "source": [
        "#### Length of tect columns"
      ],
      "metadata": {
        "id": "1NgYaDf7Moh7"
      }
    },
    {
      "cell_type": "code",
      "source": [
        "from pyspark.sql.functions import length\n",
        "\n",
        "df.select(\"Organisation\", length(col(\"Organisation\")).alias(\"Length\")).show(5)\n"
      ],
      "metadata": {
        "colab": {
          "base_uri": "https://localhost:8080/"
        },
        "id": "ISsZlcdWK8rT",
        "outputId": "5b19bf3e-4a79-4363-ab79-ee495d65db2e"
      },
      "execution_count": 17,
      "outputs": [
        {
          "output_type": "stream",
          "name": "stdout",
          "text": [
            "+------------+------+\n",
            "|Organisation|Length|\n",
            "+------------+------+\n",
            "|      SpaceX|     6|\n",
            "|        CASC|     4|\n",
            "|      SpaceX|     6|\n",
            "|   Roscosmos|     9|\n",
            "|         ULA|     3|\n",
            "+------------+------+\n",
            "only showing top 5 rows\n",
            "\n"
          ]
        }
      ]
    },
    {
      "cell_type": "markdown",
      "source": [
        "#### Distribution of data in numerial columns"
      ],
      "metadata": {
        "id": "j9870arfMsiT"
      }
    },
    {
      "cell_type": "code",
      "source": [
        "df.select(\"Price\").describe().show()\n"
      ],
      "metadata": {
        "colab": {
          "base_uri": "https://localhost:8080/"
        },
        "id": "MPK3jDRuK9zU",
        "outputId": "8472a9d6-c180-4735-eb03-d9413176cd56"
      },
      "execution_count": 18,
      "outputs": [
        {
          "output_type": "stream",
          "name": "stdout",
          "text": [
            "+-------+------------------+\n",
            "|summary|             Price|\n",
            "+-------+------------------+\n",
            "|  count|               964|\n",
            "|   mean|129.79523709167552|\n",
            "| stddev| 143.2203233531596|\n",
            "|    min|           1,160.0|\n",
            "|    max|              90.0|\n",
            "+-------+------------------+\n",
            "\n"
          ]
        }
      ]
    },
    {
      "cell_type": "markdown",
      "source": [
        "#### Check for mixed data types"
      ],
      "metadata": {
        "id": "D_nJ-sWgPoaz"
      }
    },
    {
      "cell_type": "code",
      "source": [
        "df.select(\"Price\").distinct().orderBy(\"Price\").show(20)\n"
      ],
      "metadata": {
        "colab": {
          "base_uri": "https://localhost:8080/"
        },
        "id": "-qR0RAktK_kE",
        "outputId": "8474a105-fcbc-4873-a4fc-907a77a5f9e4"
      },
      "execution_count": 19,
      "outputs": [
        {
          "output_type": "stream",
          "name": "stdout",
          "text": [
            "+-------+\n",
            "|  Price|\n",
            "+-------+\n",
            "|   NULL|\n",
            "|1,160.0|\n",
            "|  109.0|\n",
            "|  112.5|\n",
            "|  115.0|\n",
            "|   12.0|\n",
            "|  120.0|\n",
            "|  123.0|\n",
            "|  130.0|\n",
            "|  133.0|\n",
            "|  135.0|\n",
            "|  136.6|\n",
            "|  140.0|\n",
            "|  145.0|\n",
            "|   15.0|\n",
            "|  153.0|\n",
            "|  164.0|\n",
            "|  190.0|\n",
            "|   20.0|\n",
            "|  20.14|\n",
            "+-------+\n",
            "only showing top 20 rows\n",
            "\n"
          ]
        }
      ]
    },
    {
      "cell_type": "markdown",
      "source": [
        "####Sample Date Checks (Earliest & Latest)"
      ],
      "metadata": {
        "id": "kwEUyBZwPtza"
      }
    },
    {
      "cell_type": "code",
      "source": [
        "df.select(\"Date\").orderBy(\"Date\").show(5)  # Earliest\n",
        "df.select(\"Date\").orderBy(\"Date\", ascending=False).show(5)  # Latest\n"
      ],
      "metadata": {
        "colab": {
          "base_uri": "https://localhost:8080/"
        },
        "id": "_kwn3_4kLCSD",
        "outputId": "eef9fe11-a106-4616-a78e-db4aa04e04b2"
      },
      "execution_count": 20,
      "outputs": [
        {
          "output_type": "stream",
          "name": "stdout",
          "text": [
            "+--------------------+\n",
            "|                Date|\n",
            "+--------------------+\n",
            "|Fri Apr 01, 1960 ...|\n",
            "|Fri Apr 02, 1971 ...|\n",
            "|Fri Apr 02, 1999 ...|\n",
            "|Fri Apr 02, 2010 ...|\n",
            "|Fri Apr 03, 1970 ...|\n",
            "+--------------------+\n",
            "only showing top 5 rows\n",
            "\n",
            "+--------------------+\n",
            "|                Date|\n",
            "+--------------------+\n",
            "|Wed Sep 30, 2015 ...|\n",
            "|Wed Sep 30, 1981 ...|\n",
            "|Wed Sep 29, 1976 ...|\n",
            "|Wed Sep 29, 1971 ...|\n",
            "|Wed Sep 28, 1983 ...|\n",
            "+--------------------+\n",
            "only showing top 5 rows\n",
            "\n"
          ]
        }
      ]
    },
    {
      "cell_type": "markdown",
      "source": [
        "####Top Launching Organizations"
      ],
      "metadata": {
        "id": "zIrkJG1YPxti"
      }
    },
    {
      "cell_type": "code",
      "source": [
        "df.groupBy(\"Organisation\").count().orderBy(\"count\", ascending=False).show(10)\n"
      ],
      "metadata": {
        "colab": {
          "base_uri": "https://localhost:8080/"
        },
        "id": "1ldtdJNaLDmE",
        "outputId": "67800f5f-89f9-488b-fc2a-276051087a0e"
      },
      "execution_count": 21,
      "outputs": [
        {
          "output_type": "stream",
          "name": "stdout",
          "text": [
            "+----------------+-----+\n",
            "|    Organisation|count|\n",
            "+----------------+-----+\n",
            "|       RVSN USSR| 1777|\n",
            "|     Arianespace|  279|\n",
            "|            CASC|  251|\n",
            "|General Dynamics|  251|\n",
            "|            NASA|  203|\n",
            "|          VKS RF|  201|\n",
            "|    US Air Force|  161|\n",
            "|             ULA|  140|\n",
            "|          Boeing|  136|\n",
            "| Martin Marietta|  114|\n",
            "+----------------+-----+\n",
            "only showing top 10 rows\n",
            "\n"
          ]
        }
      ]
    },
    {
      "cell_type": "markdown",
      "source": [
        "#### Detecting columns with constant or low variance values"
      ],
      "metadata": {
        "id": "KaMiLozyP5VS"
      }
    },
    {
      "cell_type": "code",
      "source": [
        "for c in df.columns:\n",
        "    unique_count = df.select(c).distinct().count()\n",
        "    if unique_count <= 2:\n",
        "        print(f\"Column '{c}' has low variance: only {unique_count} unique values\")\n"
      ],
      "metadata": {
        "colab": {
          "base_uri": "https://localhost:8080/"
        },
        "id": "okKEtSiyLFGD",
        "outputId": "d58c3d19-18f6-4e0d-88fc-acf9e1e59343"
      },
      "execution_count": 22,
      "outputs": [
        {
          "output_type": "stream",
          "name": "stdout",
          "text": [
            "Column 'Rocket_Status' has low variance: only 2 unique values\n"
          ]
        }
      ]
    },
    {
      "cell_type": "markdown",
      "source": [
        "#### Null Value Matrix for visual inspection"
      ],
      "metadata": {
        "id": "wRcYktVSP_Lq"
      }
    },
    {
      "cell_type": "code",
      "source": [
        "sample_df = df.limit(1000).toPandas()\n",
        "\n",
        "import seaborn as sns\n",
        "import matplotlib.pyplot as plt\n",
        "\n",
        "plt.figure(figsize=(12, 6))\n",
        "sns.heatmap(sample_df.isnull(), cbar=False, yticklabels=False, cmap='viridis')\n",
        "plt.title(\"Missing Values Heatmap (sample data)\")\n",
        "plt.show()\n"
      ],
      "metadata": {
        "colab": {
          "base_uri": "https://localhost:8080/",
          "height": 545
        },
        "id": "1Rbfd9MZLI_j",
        "outputId": "e49fee27-9e35-4bf4-9876-01390a694534"
      },
      "execution_count": 23,
      "outputs": [
        {
          "output_type": "display_data",
          "data": {
            "text/plain": [
              "<Figure size 1200x600 with 1 Axes>"
            ],
            "image/png": "[encoded data removed]"
          },
          "metadata": {}
        }
      ]
    },
    {
      "cell_type": "markdown",
      "source": [
        "#### View Potential Typos in 'Organisation"
      ],
      "metadata": {
        "id": "XjFWNi0VQFIa"
      }
    },
    {
      "cell_type": "code",
      "source": [
        "df.select(\"Organisation\").distinct().orderBy(\"Organisation\").show(50, truncate=False)\n"
      ],
      "metadata": {
        "colab": {
          "base_uri": "https://localhost:8080/"
        },
        "id": "kZ1Rq3gDLNBz",
        "outputId": "4570bf14-870b-4dd2-a0ff-b06b2ae01160"
      },
      "execution_count": 25,
      "outputs": [
        {
          "output_type": "stream",
          "name": "stdout",
          "text": [
            "+----------------+\n",
            "|Organisation    |\n",
            "+----------------+\n",
            "|AEB             |\n",
            "|AMBA            |\n",
            "|ASI             |\n",
            "|Arianespace     |\n",
            "|Arm??e de l'Air |\n",
            "|Blue Origin     |\n",
            "|Boeing          |\n",
            "|CASC            |\n",
            "|CASIC           |\n",
            "|CECLES          |\n",
            "|CNES            |\n",
            "|Douglas         |\n",
            "|EER             |\n",
            "|ESA             |\n",
            "|Eurockot        |\n",
            "|ExPace          |\n",
            "|Exos            |\n",
            "|General Dynamics|\n",
            "|IAI             |\n",
            "|ILS             |\n",
            "|IRGC            |\n",
            "|ISA             |\n",
            "|ISAS            |\n",
            "|ISRO            |\n",
            "|JAXA            |\n",
            "|KARI            |\n",
            "|KCST            |\n",
            "|Khrunichev      |\n",
            "|Kosmotras       |\n",
            "|Land Launch     |\n",
            "|Landspace       |\n",
            "|Lockheed        |\n",
            "|MHI             |\n",
            "|MITT            |\n",
            "|Martin Marietta |\n",
            "|NASA            |\n",
            "|Northrop        |\n",
            "|OKB-586         |\n",
            "|OneSpace        |\n",
            "|RAE             |\n",
            "|RVSN USSR       |\n",
            "|Rocket Lab      |\n",
            "|Roscosmos       |\n",
            "|SRC             |\n",
            "|Sandia          |\n",
            "|Sea Launch      |\n",
            "|SpaceX          |\n",
            "|Starsem         |\n",
            "|ULA             |\n",
            "|US Air Force    |\n",
            "+----------------+\n",
            "only showing top 50 rows\n",
            "\n"
          ]
        }
      ]
    },
    {
      "cell_type": "code",
      "source": [],
      "metadata": {
        "id": "wgH-bCOeLPRb"
      },
      "execution_count": null,
      "outputs": []
    }
  ]
}